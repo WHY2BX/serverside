{
 "cells": [
  {
   "cell_type": "markdown",
   "metadata": {},
   "source": [
    "# QUIZ - 2024-08"
   ]
  },
  {
   "cell_type": "code",
   "execution_count": 2,
   "metadata": {},
   "outputs": [],
   "source": [
    "import os\n",
    "os.environ[\"DJANGO_ALLOW_ASYNC_UNSAFE\"] = \"true\""
   ]
  },
  {
   "cell_type": "code",
   "execution_count": 3,
   "metadata": {},
   "outputs": [],
   "source": [
    "from service.models import Service, ServiceCategory, ServiceProvider, Customer, Appointment\n",
    "from datetime import date, time, datetime"
   ]
  },
  {
   "cell_type": "markdown",
   "metadata": {},
   "source": [
    "## PART 1 - CRUD Operations\n",
    "1.1 สร้างบริการ (`Service`) รายละเอียดตามด้านล่าง และเพิ่มเข้าไปในหมวดหมู่ (`ServiceCategory`) ชื่อ \"Hair Care\"\n",
    "\n",
    "- Name: \"Hair Shower\"\n",
    "- Desciption: \"Cold hair shower\"\n",
    "- Price: 100 (Provider 1) และ 200 (Provider 2)\n",
    "- Service Provider: \"Provider 1\" และ \"Provider 2\"\n",
    "\n",
    "*Hint: ดังนั้นต้องสร้าง 2 แถวในตาราง `Service`*\n",
    "\n",
    "\n",
    "(0.5 คะแนน)\n",
    "\n",
    "*หมายเหตุ: จะต้อง get ข้อมูลมาโดยใช้การ query ด้วยชื่อตามที่โจทย์ว่าเท่านั้น ห้ามใช้ id ใน database*"
   ]
  },
  {
   "cell_type": "code",
   "execution_count": 4,
   "metadata": {},
   "outputs": [],
   "source": [
    "prod1 = ServiceProvider.objects.get(name='Provider 1')\n",
    "prod2 = ServiceProvider.objects.get(name='Provider 2')\n",
    "\n",
    "serv1 = Service.objects.create(\n",
    "    service_provider = prod1,\n",
    "    name='Hair Shower',\n",
    "    description='Cold hair shower',\n",
    "    price=100\n",
    ")\n",
    "\n",
    "serv2 = Service.objects.create(\n",
    "    service_provider = prod2,\n",
    "    name='Hair Shower',\n",
    "    description='Cold hair shower',\n",
    "    price=200\n",
    ")\n",
    "\n",
    "hair = ServiceCategory.objects.get(name='Hair Care')\n",
    "hair.services.add(serv1, serv2)"
   ]
  },
  {
   "cell_type": "code",
   "execution_count": 5,
   "metadata": {},
   "outputs": [
    {
     "data": {
      "text/plain": [
       "6"
      ]
     },
     "execution_count": 5,
     "metadata": {},
     "output_type": "execute_result"
    }
   ],
   "source": [
    "# Check result\n",
    "cat = ServiceCategory.objects.first()\n",
    "cat.services.count()"
   ]
  },
  {
   "cell_type": "markdown",
   "metadata": {},
   "source": [
    "1.2 ทำการแก้ไขราคาของ \"Hair Shower\" ของ \"Provider 1\" จาก 100 เป็น 300\n",
    "\n",
    "(0.25 คะแนน)"
   ]
  },
  {
   "cell_type": "code",
   "execution_count": 6,
   "metadata": {},
   "outputs": [],
   "source": [
    "serv1.price=300\n",
    "serv1.save()\n"
   ]
  },
  {
   "cell_type": "code",
   "execution_count": 7,
   "metadata": {},
   "outputs": [
    {
     "name": "stdout",
     "output_type": "stream",
     "text": [
      "Service Name: Hair Shower, Provider Name: Provider 2, Price: 200\n",
      "Service Name: Hair Shower, Provider Name: Provider 1, Price: 300\n"
     ]
    }
   ],
   "source": [
    "# Check result\n",
    "services = Service.objects.filter(name=\"Hair Shower\")\n",
    "for service in services:\n",
    "    print(f\"Service Name: {service.name}, Provider Name: {service.service_provider.name}, Price: {service.price}\")"
   ]
  },
  {
   "cell_type": "markdown",
   "metadata": {},
   "source": [
    "1.3 ทำการแก้ไขนัดหมาย ณ วันที่ 2024-08-15 โดยเปลี่ยนจากเดิมที่นัดมาให้บริการ \"Massage\" ของ \"Provider 3\" เป็น \"Hair Shower\" ของ \"Provider 1\" แทน และทำการเลื่อนวันที่นัดหมายจาก 2024-08-15 เป็น 2024-08-18\n",
    "\n",
    "(0.25 คะแนน)\n",
    "\n",
    "*หมายเหตุ: จะต้อง get ข้อมูลมาโดยใช้การ query ด้วยชื่อตามที่โจทย์ว่าเท่านั้น ห้ามใช้ id ใน database*"
   ]
  },
  {
   "cell_type": "code",
   "execution_count": 13,
   "metadata": {},
   "outputs": [],
   "source": [
    "appnt = Appointment.objects.get(appointment_date='2024-08-15')\n",
    "prov1 = ServiceProvider.objects.get(name='Provider 1')\n",
    "hairshow = Service.objects.get(name='Hair Shower', service_provider=prov1)\n",
    "\n",
    "appnt.service = hairshow\n",
    "appnt.appointment_date = '2024-08-18'\n",
    "appnt.save()"
   ]
  },
  {
   "cell_type": "code",
   "execution_count": 14,
   "metadata": {},
   "outputs": [
    {
     "name": "stdout",
     "output_type": "stream",
     "text": [
      "Appoint Date: 2024-08-18, Appoint Time: 11:30:00\n",
      "Service Name: Hair Shower, Provider Name: Provider 1, Customer Name: Customer 1\n"
     ]
    }
   ],
   "source": [
    "# Check result\n",
    "res = Appointment.objects.order_by(\"-appointment_date\").first()\n",
    "print(f\"Appoint Date: {res.appointment_date}, Appoint Time: {res.appointment_time}\")\n",
    "print(f\"Service Name: {res.service.name}, Provider Name: {res.service.service_provider.name}, Customer Name: {res.customer.name}\")"
   ]
  },
  {
   "cell_type": "markdown",
   "metadata": {},
   "source": [
    "1.4 ทำตามขั้นตอนดังนี้\n",
    "\n",
    "1. สร้างผู้ให้บริการ (`ServiceProvider`) ชื่อ \"Super Provider\" ขึ้นมา (email: super@gmail.com, phone: 089-999-9999) และทำการเพิ่มบริการ (`Service`) ให้กับผู้ให้บริการนี้ (เทพมากสามารถทำได้ทุกบริการ) โดยทุกบริการราคาเท่ากับ 500 บาท\n",
    "\n",
    "(1 คะแนน)"
   ]
  },
  {
   "cell_type": "code",
   "execution_count": 24,
   "metadata": {},
   "outputs": [],
   "source": [
    "serprov_create = ServiceProvider.objects.create(\n",
    "    name='Super Provider',\n",
    "    email='super@gmail.com',\n",
    "    phone='089-999-9999'\n",
    ")\n",
    "\n",
    "supprov = ServiceProvider.objects.get(name='Super Provider')\n",
    "\n",
    "services1 = Service.objects.create(\n",
    "    service_provider = supprov,\n",
    "    name='Hair Shower',\n",
    "    description='Cold hair shower',\n",
    "    price=500\n",
    ")\n",
    "\n",
    "services2 = Service.objects.create(\n",
    "    service_provider = supprov,\n",
    "    name='Haircut',\n",
    "    description='A simple haircut',\n",
    "    price=500\n",
    ")\n",
    "\n",
    "\n",
    "services3 = Service.objects.create(\n",
    "    service_provider = supprov,\n",
    "    name=\"Manicure\",\n",
    "    description=\"Nail trimming and polish\",\n",
    "    price=500\n",
    ")\n",
    "\n",
    "\n",
    "services4 = Service.objects.create(\n",
    "    service_provider = supprov,\n",
    "    name=\"Massage\",\n",
    "    description=\"Full body massage\",\n",
    "    price=500\n",
    ")\n",
    "\n",
    "\n",
    "hair = ServiceCategory.objects.get(name=\"Hair Care\")\n",
    "nail = ServiceCategory.objects.get(name=\"Nail Care\")\n",
    "body = ServiceCategory.objects.get(name=\"Body Care\")\n",
    "\n",
    "hair.services.add(services1, services2)\n",
    "nail.services.add(services3)\n",
    "body.services.add(services4)"
   ]
  },
  {
   "cell_type": "code",
   "execution_count": 25,
   "metadata": {},
   "outputs": [
    {
     "name": "stdout",
     "output_type": "stream",
     "text": [
      "Service Name: Hair Shower, Price: 500, Provider: Super Provider\n",
      "Service Name: Haircut, Price: 500, Provider: Super Provider\n",
      "Service Name: Manicure, Price: 500, Provider: Super Provider\n",
      "Service Name: Massage, Price: 500, Provider: Super Provider\n"
     ]
    }
   ],
   "source": [
    "# Check result\n",
    "for s in Service.objects.filter(service_provider__name=\"Super Provider\"):\n",
    "    print(f\"Service Name: {s.name}, Price: {s.price}, Provider: {s.service_provider.name}\")"
   ]
  },
  {
   "cell_type": "markdown",
   "metadata": {},
   "source": [
    "## PART 2 - Making Queries\n",
    "\n",
    "สำหรับ PART 2 ให้ทำการ reset DB และ import ข้อมูลใน `service.sql` เข้าไปใหม่"
   ]
  },
  {
   "cell_type": "markdown",
   "metadata": {},
   "source": [
    "2.1 ให้หาจำนวนนัดหมาย ที่นัดหมาย (`Appointment.appointment_date`) ในช่วงวันที่ 2024-08-05 ถึง 2024-08-10 ของ \"Service Provider 1\"\n",
    "\n",
    "**Expected Output**\n",
    "\n",
    "จะต้องมี 3 รายการ\n",
    "\n",
    "(0.5 คะแนน)"
   ]
  },
  {
   "cell_type": "code",
   "execution_count": 14,
   "metadata": {},
   "outputs": [
    {
     "data": {
      "text/plain": [
       "5"
      ]
     },
     "execution_count": 14,
     "metadata": {},
     "output_type": "execute_result"
    }
   ],
   "source": [
    "count = Appointment.objects.filter(appointment_date__range=('2024-08-05', '2024-08-10'), service__service_provider_id=1).values('service__service_provider_id').annotate(count=Count('id'))\n",
    "count[0]['count']"
   ]
  },
  {
   "cell_type": "markdown",
   "metadata": {},
   "source": [
    "2.2 ให้หาว่ามีบริการใด ของผู้ให้บริการไหนบ้าง ที่มีการนัดหมายที่ถูกสร้าง (`Appointment.created_at`) ในช่วงวันที่ 2024-08-01 ถึง 2024-08-02\n",
    "\n",
    "(0.5 คะแนน)\n",
    "\n",
    "**Expected Output**\n",
    "\n",
    "```\n",
    "Name: Haircut, Provider: Provider 1\n",
    "Name: Manicure, Provider: Provider 1\n",
    "Name: Massage, Provider: Provider 1\n",
    "Name: Manicure, Provider: Provider 2\n",
    "```"
   ]
  },
  {
   "cell_type": "code",
   "execution_count": 69,
   "metadata": {},
   "outputs": [
    {
     "name": "stdout",
     "output_type": "stream",
     "text": [
      "Name: Haircut,  Provider: Provider 1\n",
      "Name: Manicure,  Provider: Provider 1\n",
      "Name: Massage,  Provider: Provider 1\n",
      "Name: Manicure,  Provider: Provider 2\n"
     ]
    }
   ],
   "source": [
    "serv = Appointment.objects.filter(created_at__range=('2024-07-31', '2024-08-02')).order_by('service__service_provider__name')\n",
    "\n",
    "for i in serv:\n",
    "    print(\n",
    "        'Name: %s, ' %i.service.name,\n",
    "        'Provider: %s' %i.service.service_provider.name\n",
    "    )\n"
   ]
  },
  {
   "cell_type": "markdown",
   "metadata": {},
   "source": [
    "2.3 ให้แสดงผลข้อมูลลูกค้า (`Customer`) ดังในตัวอย่าง\n",
    "\n",
    "```python\n",
    "[\n",
    "    {\n",
    "        \"name\": \"Customer 4\",\n",
    "        \"phone\": \"123-456-7893\",\n",
    "        \"appointment_num\": 3\n",
    "    },\n",
    "    {\n",
    "        \"name\": \"Customer 2\",\n",
    "        \"phone\": \"123-456-7891\",\n",
    "        \"appointment_num\": 4\n",
    "    },\n",
    "    {\n",
    "        \"name\": \"Customer 3\",\n",
    "        \"phone\": \"123-456-7892\",\n",
    "        \"appointment_num\": 3\n",
    "    },\n",
    "    {\n",
    "        \"name\": \"Customer 1\",\n",
    "        \"phone\": \"123-456-7890\",\n",
    "        \"appointment_num\": 5\n",
    "    }\n",
    "]\n",
    "```\n",
    "\n",
    "(0.5 คะแนน)\n",
    "\n",
    "*หมายเหตุ: จะต้องใช้ `annotate()` และ `values()` เท่านั้น การ loop และสร้าง dict เองจะไม่ได้คะแนน*\n",
    "\n",
    "Hint: อยาก print dictionary สวยๆ ใช้ json.dumps\n",
    "\n",
    "```python\n",
    "print(json.dumps(dictionary, indent=4, sort_keys=False))\n",
    "```"
   ]
  },
  {
   "cell_type": "code",
   "execution_count": 34,
   "metadata": {},
   "outputs": [
    {
     "name": "stdout",
     "output_type": "stream",
     "text": [
      "{\n",
      "    \"customer__name\": \"Customer 4\",\n",
      "    \"customer__phone\": \"123-456-7893\",\n",
      "    \"appointment_num\": 3\n",
      "}\n",
      "{\n",
      "    \"customer__name\": \"Customer 2\",\n",
      "    \"customer__phone\": \"123-456-7891\",\n",
      "    \"appointment_num\": 4\n",
      "}\n",
      "{\n",
      "    \"customer__name\": \"Customer 1\",\n",
      "    \"customer__phone\": \"123-456-7890\",\n",
      "    \"appointment_num\": 5\n",
      "}\n",
      "{\n",
      "    \"customer__name\": \"Customer 3\",\n",
      "    \"customer__phone\": \"123-456-7892\",\n",
      "    \"appointment_num\": 3\n",
      "}\n"
     ]
    }
   ],
   "source": [
    "import json\n",
    "cus = Appointment.objects.values('customer_id').annotate(appointment_num=Count('customer_id')).values('customer__name', 'customer__phone', \"appointment_num\")\n",
    "cus\n",
    "for i in cus:\n",
    "    print(json.dumps(i, indent=4, sort_keys=False))"
   ]
  },
  {
   "cell_type": "markdown",
   "metadata": {},
   "source": [
    "2.4 ให้แสดงข้อมูลผู้ให้บริการ (`ServiceProvider`) ดังนี้\n",
    "\n",
    "*หมายเหตุ: Appointment Num หมายถึงจำนวนนัดหมายที่ผู้ให้บริการนั้นมีการได้รับนัด และ Appointed Service หมายถึงบริการที่มีการนัดหมายของผู้ให้บริการนั้นๆ*\n",
    "\n",
    "(1 คะแนน)\n",
    "\n",
    "**Expected Output**\n",
    "\n",
    "```python\n",
    "Name: Provider 1, Appointment Num: 7, Appointed Services: Haircut, Manicure, Massage, Manicure, Manicure, Massage, Massage\n",
    "Name: Provider 2, Appointment Num: 5, Appointed Services: Haircut, Manicure, Massage, Manicure, Manicure\n",
    "Name: Provider 3, Appointment Num: 2, Appointed Services: Manicure, Massage\n",
    "Name: Provider 4, Appointment Num: 1, Appointed Services: Haircut\n",
    "```"
   ]
  },
  {
   "cell_type": "code",
   "execution_count": 92,
   "metadata": {
    "scrolled": true
   },
   "outputs": [
    {
     "data": {
      "text/plain": [
       "<QuerySet [{'service__name': 'Haircut'}, {'service__name': 'Manicure'}, {'service__name': 'Manicure'}, {'service__name': 'Manicure'}, {'service__name': 'Massage'}, {'service__name': 'Massage'}, {'service__name': 'Massage'}, {'service__name': 'Haircut'}, {'service__name': 'Manicure'}, {'service__name': 'Manicure'}, {'service__name': 'Manicure'}, {'service__name': 'Massage'}, {'service__name': 'Manicure'}, {'service__name': 'Massage'}, {'service__name': 'Haircut'}]>"
      ]
     },
     "execution_count": 92,
     "metadata": {},
     "output_type": "execute_result"
    }
   ],
   "source": [
    "count = Appointment.objects.values('service__service_provider_id__name').annotate(count=Count('id')).order_by('service__service_provider_id__name')\n",
    "servx= Appointment.objects.values('service__service_provider_id__name')\n",
    "servx.values('service__name')"
   ]
  },
  {
   "cell_type": "code",
   "execution_count": 86,
   "metadata": {},
   "outputs": [
    {
     "name": "stdout",
     "output_type": "stream",
     "text": [
      "Name: Provider 1, Appointment Num: 7,\n",
      "Name: Provider 2, Appointment Num: 5,\n",
      "Name: Provider 3, Appointment Num: 2,\n",
      "Name: Provider 4, Appointment Num: 1,\n"
     ]
    }
   ],
   "source": [
    "for i in count:\n",
    "    print(\n",
    "        'Name: %s,' %i['service__service_provider_id__name'],\n",
    "        'Appointment Num: %d,' %i['count'],\n",
    "#         'Appointed Services: %s' %i['service_id__name']\n",
    "    )"
   ]
  },
  {
   "cell_type": "markdown",
   "metadata": {},
   "source": [
    "2.5 ให้หาว่าบริการ (`Service`) ไหนของผู้บริการไหนได้รับความนิยมสูงสุด (มีจำนวนนัดหมายมากที่สุด) และ นิยมน้อยที่สุด (มีจำนวนนัดหมายน้อยที่สุด)\n",
    "\n",
    "(0.5 คะแนน)\n",
    "\n",
    "**Expected Output**\n",
    "\n",
    "```python\n",
    "Name: Manicure, Provider: Provider 1, Appointment Num: 3\n",
    "Name: Massage, Provider: Provider 1, Appointment Num: 3\n",
    "Name: Manicure, Provider: Provider 2, Appointment Num: 3\n",
    "Name: Massage, Provider: Provider 3, Appointment Num: 1\n",
    "Name: Haircut, Provider: Provider 1, Appointment Num: 1\n",
    "Name: Massage, Provider: Provider 2, Appointment Num: 1\n",
    "Name: Manicure, Provider: Provider 3, Appointment Num: 1\n",
    "Name: Haircut, Provider: Provider 4, Appointment Num: 1\n",
    "Name: Haircut, Provider: Provider 2, Appointment Num: 1\n",
    "Name: Massage, Provider: Provider 4, Appointment Num: 0\n",
    "Name: Manicure, Provider: Provider 4, Appointment Num: 0\n",
    "Name: Haircut, Provider: Provider 3, Appointment Num: 0\n",
    "```"
   ]
  },
  {
   "cell_type": "code",
   "execution_count": 107,
   "metadata": {},
   "outputs": [
    {
     "data": {
      "text/plain": [
       "<QuerySet [{'service__name': 'Manicure', 'service__service_provider__name': 'Provider 2', 'count': 3}, {'service__name': 'Massage', 'service__service_provider__name': 'Provider 1', 'count': 3}, {'service__name': 'Manicure', 'service__service_provider__name': 'Provider 1', 'count': 3}, {'service__name': 'Massage', 'service__service_provider__name': 'Provider 3', 'count': 1}, {'service__name': 'Haircut', 'service__service_provider__name': 'Provider 4', 'count': 1}, {'service__name': 'Manicure', 'service__service_provider__name': 'Provider 3', 'count': 1}, {'service__name': 'Haircut', 'service__service_provider__name': 'Provider 2', 'count': 1}, {'service__name': 'Haircut', 'service__service_provider__name': 'Provider 1', 'count': 1}, {'service__name': 'Massage', 'service__service_provider__name': 'Provider 2', 'count': 1}]>"
      ]
     },
     "execution_count": 107,
     "metadata": {},
     "output_type": "execute_result"
    }
   ],
   "source": [
    "pop = Appointment.objects.values('service__name', 'service__service_provider__name').annotate(count=Count('id')).order_by('-count')\n",
    "pop"
   ]
  },
  {
   "cell_type": "code",
   "execution_count": 108,
   "metadata": {},
   "outputs": [
    {
     "name": "stdout",
     "output_type": "stream",
     "text": [
      "Name: Manicure, Provider: Provider 2 Appointment Num: 3\n",
      "Name: Massage, Provider: Provider 1 Appointment Num: 3\n",
      "Name: Manicure, Provider: Provider 1 Appointment Num: 3\n",
      "Name: Massage, Provider: Provider 3 Appointment Num: 1\n",
      "Name: Haircut, Provider: Provider 4 Appointment Num: 1\n",
      "Name: Manicure, Provider: Provider 3 Appointment Num: 1\n",
      "Name: Haircut, Provider: Provider 2 Appointment Num: 1\n",
      "Name: Haircut, Provider: Provider 1 Appointment Num: 1\n",
      "Name: Massage, Provider: Provider 2 Appointment Num: 1\n"
     ]
    }
   ],
   "source": [
    "for i in pop:\n",
    "    print(\n",
    "        'Name: %s,' %i['service__name'],\n",
    "        'Provider: %s' %i['service__service_provider__name'],\n",
    "        'Appointment Num: %d' %i['count']\n",
    "    )"
   ]
  },
  {
   "cell_type": "markdown",
   "metadata": {},
   "source": [
    "2.6 ให้ดึงข้อมูลหมวดหมู่บริการโดยแปลงชื่อบริการ (`Service.name`) เป็นตัวใหญ่ (uppercase) และราคา (`Service.price`) เป็น 2 เท่า และเรียงลำดับตามราคา\n",
    "\n",
    "(0.5 คะแนน)\n",
    "\n",
    "**Expected Output**\n",
    "\n",
    "```python\n",
    "Name: HAIRCUT, Provider: Provider 1, New Price: $40\n",
    "Name: MANICURE, Provider: Provider 1, New Price: $60\n",
    "Name: MASSAGE, Provider: Provider 1, New Price: $200\n",
    "Name: HAIRCUT, Provider: Provider 2, New Price: $40\n",
    "Name: MANICURE, Provider: Provider 2, New Price: $60\n",
    "Name: MASSAGE, Provider: Provider 2, New Price: $200\n",
    "Name: HAIRCUT, Provider: Provider 3, New Price: $40\n",
    "Name: MANICURE, Provider: Provider 3, New Price: $60\n",
    "Name: MASSAGE, Provider: Provider 3, New Price: $200\n",
    "Name: HAIRCUT, Provider: Provider 4, New Price: $40\n",
    "Name: MANICURE, Provider: Provider 4, New Price: $60\n",
    "Name: MASSAGE, Provider: Provider 4, New Price: $200\n",
    "```"
   ]
  },
  {
   "cell_type": "code",
   "execution_count": 59,
   "metadata": {},
   "outputs": [],
   "source": [
    "# CODE HERE\n"
   ]
  }
 ],
 "metadata": {
  "kernelspec": {
   "display_name": "Django Shell-Plus",
   "language": "python",
   "name": "django_extensions"
  },
  "language_info": {
   "codemirror_mode": {
    "name": "ipython",
    "version": 3
   },
   "file_extension": ".py",
   "mimetype": "text/x-python",
   "name": "python",
   "nbconvert_exporter": "python",
   "pygments_lexer": "ipython3",
   "version": "3.12.3"
  }
 },
 "nbformat": 4,
 "nbformat_minor": 2
}
